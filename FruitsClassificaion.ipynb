{
  "cells": [
    {
      "cell_type": "markdown",
      "metadata": {
        "id": "view-in-github",
        "colab_type": "text"
      },
      "source": [
        "<a href=\"https://colab.research.google.com/github/atuleshchand/PythonDataScience/blob/main/FruitsClassificaion.ipynb\" target=\"_parent\"><img src=\"https://colab.research.google.com/assets/colab-badge.svg\" alt=\"Open In Colab\"/></a>"
      ]
    },
    {
      "cell_type": "markdown",
      "metadata": {
        "id": "4M_uWZWGOj1l"
      },
      "source": [
        "# Getting Started"
      ]
    },
    {
      "cell_type": "code",
      "execution_count": null,
      "metadata": {
        "id": "77zMzVdzOdaS"
      },
      "outputs": [],
      "source": [
        "import numpy as np\n",
        "import matplotlib.pyplot as plt\n",
        "\n",
        "import os\n",
        "import pathlib\n",
        "from zipfile import ZipFile\n",
        "import PIL\n",
        "\n",
        "import tensorflow as tf\n",
        "\n",
        "import shutil\n"
      ]
    },
    {
      "cell_type": "code",
      "execution_count": null,
      "metadata": {
        "id": "D64LqfSyTXV0"
      },
      "outputs": [],
      "source": [
        "zf = ZipFile(\"/content/drive/MyDrive/archive.zip\")\n",
        "zf.extractall(\"/content\")\n",
        "\n",
        "shutil.rmtree(\"/content/fruits-360-original-size/\")"
      ]
    },
    {
      "cell_type": "code",
      "execution_count": null,
      "metadata": {
        "id": "0pqBRUmgWQQX"
      },
      "outputs": [],
      "source": [
        "train_dir = pathlib.Path('/content/fruits-360_dataset/fruits-360/Training')\n",
        "test_dir = pathlib.Path('/content/fruits-360_dataset/fruits-360/Test')"
      ]
    },
    {
      "cell_type": "code",
      "execution_count": null,
      "metadata": {
        "id": "HAUqiSabWhiT"
      },
      "outputs": [],
      "source": [
        "# Total images we have in dir\n",
        "image_count = len(list(train_dir.glob(\"*/*.jpg\")))\n",
        "image_count"
      ]
    },
    {
      "cell_type": "markdown",
      "metadata": {
        "id": "cMjB6GG3XGcG"
      },
      "source": [
        "# Visualization"
      ]
    },
    {
      "cell_type": "code",
      "execution_count": null,
      "metadata": {
        "id": "ayHHzHlTXJar"
      },
      "outputs": [],
      "source": [
        "fruits = list(train_dir.glob(\"Apple Red Delicious/*.jpg\"))\n",
        "plt.figure(figsize=(10,10))\n",
        "\n",
        "for i in range(9):\n",
        "  plt.subplot(3, 3, i + 1)\n",
        "  img = PIL.Image.open(str(fruits[i]))\n",
        "  plt.imshow(img)\n",
        "  plt.axis('off')\n",
        "\n",
        "plt.show()"
      ]
    },
    {
      "cell_type": "code",
      "execution_count": null,
      "metadata": {
        "id": "0maIPj1FX_iW"
      },
      "outputs": [],
      "source": [
        "batch_size = 32\n",
        "img_height = 100\n",
        "img_width = 100"
      ]
    },
    {
      "cell_type": "code",
      "execution_count": null,
      "metadata": {
        "id": "AfEpgiavYNTf"
      },
      "outputs": [],
      "source": [
        "# Get images and put them into tensorflow dataset\n",
        "\n",
        "train_ds = tf.keras.preprocessing.image_dataset_from_directory(\n",
        "    train_dir,\n",
        "    validation_split=0.2,\n",
        "    subset='training',\n",
        "    seed=42,\n",
        "    image_size=(img_height, img_width),\n",
        "    batch_size=batch_size\n",
        ")"
      ]
    },
    {
      "cell_type": "code",
      "execution_count": null,
      "metadata": {
        "id": "s49NBTVHY9XE"
      },
      "outputs": [],
      "source": [
        "# Get images and put them into tensorflow dataset\n",
        "\n",
        "val_ds = tf.keras.preprocessing.image_dataset_from_directory(\n",
        "    train_dir,\n",
        "    validation_split=0.2,\n",
        "    subset='validation',\n",
        "    seed=42,\n",
        "    image_size=(img_height, img_width),\n",
        "    batch_size=batch_size\n",
        ")"
      ]
    },
    {
      "cell_type": "code",
      "execution_count": null,
      "metadata": {
        "id": "Huodn3_AZEnK"
      },
      "outputs": [],
      "source": [
        "class_names = train_ds.class_names\n",
        "num_classes = len(class_names)"
      ]
    },
    {
      "cell_type": "code",
      "execution_count": null,
      "metadata": {
        "id": "oXFqk2DVZaRv"
      },
      "outputs": [],
      "source": [
        "for images, labels in train_ds.take(1):\n",
        "  plt.figure(figsize=(10,10))\n",
        "  for i in range(9):\n",
        "    plt.subplot(3, 3, i+1)\n",
        "    plt.imshow(images[i].numpy().astype('uint8'))\n",
        "    plt.title(class_names[labels[i]])\n",
        "    plt.axis('off')\n",
        "\n",
        "  plt.show()"
      ]
    },
    {
      "cell_type": "markdown",
      "metadata": {
        "id": "Z5feZm_-aifp"
      },
      "source": [
        "# Preprosessing/Setting Up Base Model"
      ]
    },
    {
      "cell_type": "code",
      "execution_count": null,
      "metadata": {
        "id": "DRllmGDsac0L"
      },
      "outputs": [],
      "source": [
        "AUTOTUNE = tf.data.experimental.AUTOTUNE\n",
        "\n",
        "train_ds = train_ds.cache().shuffle(1000).prefetch(buffer_size=AUTOTUNE)\n",
        "val_ds = val_ds.cache().prefetch(buffer_size=AUTOTUNE)"
      ]
    },
    {
      "cell_type": "code",
      "execution_count": null,
      "metadata": {
        "id": "1Uo0rjaEb22Q"
      },
      "outputs": [],
      "source": [
        "data_augmentation = tf.keras.Sequential([\n",
        "    tf.keras.layers.experimental.preprocessing.RandomFlip('horizontal'),\n",
        "    tf.keras.layers.experimental.preprocessing.RandomRotation(0.2)\n",
        "])"
      ]
    },
    {
      "cell_type": "code",
      "execution_count": null,
      "metadata": {
        "id": "drCQ2LsocZw3"
      },
      "outputs": [],
      "source": [
        "preprocess_input = tf.keras.applications.resnet.preprocess_input"
      ]
    },
    {
      "cell_type": "code",
      "execution_count": null,
      "metadata": {
        "id": "ivcoBhvTbYYr"
      },
      "outputs": [],
      "source": [
        "base_model = tf.keras.applications.resnet.ResNet50(\n",
        "    input_shape=(img_height, img_width, 3),\n",
        "    include_top=False,\n",
        "    weights='imagenet'\n",
        ")"
      ]
    },
    {
      "cell_type": "code",
      "execution_count": null,
      "metadata": {
        "id": "_jQOf4emcoGl"
      },
      "outputs": [],
      "source": [
        "base_model.trainable = False"
      ]
    },
    {
      "cell_type": "code",
      "execution_count": null,
      "metadata": {
        "id": "ec8OAkzIctjY"
      },
      "outputs": [],
      "source": [
        "global_average_layer = tf.keras.layers.GlobalAveragePooling2D()\n",
        "prediction_layer = tf.keras.layers.Dense(num_classes)"
      ]
    },
    {
      "cell_type": "markdown",
      "metadata": {
        "id": "31IvUTDDdbfM"
      },
      "source": [
        "# Building the Model"
      ]
    },
    {
      "cell_type": "code",
      "execution_count": null,
      "metadata": {
        "id": "7YvW42YodgVp"
      },
      "outputs": [],
      "source": [
        "inputs = tf.keras.Input(shape=(100, 100, 3))\n",
        "x = data_augmentation(inputs)\n",
        "x = preprocess_input(x)\n",
        "x = base_model(x, training=False)\n",
        "x = global_average_layer(x)\n",
        "x = tf.keras.layers.Dropout(0.2)(x)\n",
        "outputs = prediction_layer(x)\n",
        "\n",
        "model = tf.keras.Model(inputs=inputs, outputs=outputs)"
      ]
    },
    {
      "cell_type": "code",
      "execution_count": null,
      "metadata": {
        "id": "Iy8aNoXjeP5L"
      },
      "outputs": [],
      "source": [
        "optimizer = tf.keras.optimizers.Adam(learning_rate=0.0001)\n",
        "\n",
        "model.compile(\n",
        "    optimizer=optimizer,\n",
        "    loss=tf.keras.losses.SparseCategoricalCrossentropy(from_logits=True),\n",
        "    metrics=['accuracy']\n",
        ")"
      ]
    },
    {
      "cell_type": "code",
      "execution_count": null,
      "metadata": {
        "id": "50t2S_V7fc6x"
      },
      "outputs": [],
      "source": [
        "model.summary()"
      ]
    },
    {
      "cell_type": "markdown",
      "source": [],
      "metadata": {
        "id": "wVPpw8_7uoSi"
      }
    },
    {
      "cell_type": "markdown",
      "metadata": {
        "id": "3gX1o6zGex_Q"
      },
      "source": [
        "# Training the model"
      ]
    },
    {
      "cell_type": "code",
      "execution_count": null,
      "metadata": {
        "id": "BeJQjD88e2fX"
      },
      "outputs": [],
      "source": [
        "model.evaluate(val_ds)"
      ]
    },
    {
      "cell_type": "code",
      "execution_count": null,
      "metadata": {
        "id": "VFoNoLrfe7qd"
      },
      "outputs": [],
      "source": [
        "epochs = 10\n",
        "\n",
        "history = model.fit(\n",
        "    train_ds,\n",
        "    epochs=epochs,\n",
        "    validation_data=val_ds\n",
        ")"
      ]
    },
    {
      "cell_type": "code",
      "execution_count": null,
      "metadata": {
        "id": "kMG0mMbzipV2"
      },
      "outputs": [],
      "source": [
        "train_loss = history.history['loss']\n",
        "val_loss = history.history['val_loss']\n",
        "\n",
        "epochs_range = range(epochs)\n",
        "\n",
        "plt.figure(figsize=(12, 10))\n",
        "plt.plot(epochs_range, train_loss, label='Training Loss')\n",
        "plt.plot(epochs_range, val_loss, label='Validation Loss')\n",
        "plt.legend(loc='upper left')\n",
        "plt.title('Training and Validation Loss')\n",
        "\n",
        "plt.show()"
      ]
    },
    {
      "cell_type": "code",
      "execution_count": null,
      "metadata": {
        "id": "P185kBbEjZ4-"
      },
      "outputs": [],
      "source": [
        "np.argmin(val_loss)"
      ]
    }
  ],
  "metadata": {
    "accelerator": "GPU",
    "colab": {
      "gpuType": "T4",
      "provenance": [],
      "mount_file_id": "1qVMmx189jCzcvdnEMcFfM4pPSTeg_gsn",
      "authorship_tag": "ABX9TyMRhtDFeZiujGPrsFCHpHDn",
      "include_colab_link": true
    },
    "kernelspec": {
      "display_name": "Python 3",
      "name": "python3"
    },
    "language_info": {
      "name": "python"
    }
  },
  "nbformat": 4,
  "nbformat_minor": 0
}
