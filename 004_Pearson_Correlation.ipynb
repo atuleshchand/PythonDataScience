{
 "cells": [
  {
   "cell_type": "markdown",
   "id": "ecc42945",
   "metadata": {},
   "source": [
    "## 1. Pearson Correlation Coefficient:\n",
    "\n",
    "**Simple Explanation:** It's a measure that tells us how strongly two things are related. The value ranges from -1 to 1. If it's close to 1, it means they're strongly positively related; if it's close to -1, they're strongly negatively related; and if it's close to 0, they're not really related.\n",
    "\n",
    "**Real-world analogy:** Imagine you're observing the relationship between the amount of time students study and their test scores. If students who study more tend to score higher, there's a positive correlation. If students who study more tend to score lower (which is unlikely), there's a negative correlation.\n"
   ]
  },
  {
   "cell_type": "markdown",
   "id": "4e830df5",
   "metadata": {},
   "source": [
    "## 2. Pandas\n",
    "\n",
    "### `corr()`\n",
    "\n",
    "**Simple Explanation:** It's a handy tool in pandas that calculates the correlation between columns in a DataFrame.\n",
    "\n",
    "**Example with Sample Data:**"
   ]
  },
  {
   "cell_type": "code",
   "execution_count": 2,
   "id": "cab3f217",
   "metadata": {},
   "outputs": [
    {
     "data": {
      "text/html": [
       "<div>\n",
       "<style scoped>\n",
       "    .dataframe tbody tr th:only-of-type {\n",
       "        vertical-align: middle;\n",
       "    }\n",
       "\n",
       "    .dataframe tbody tr th {\n",
       "        vertical-align: top;\n",
       "    }\n",
       "\n",
       "    .dataframe thead th {\n",
       "        text-align: right;\n",
       "    }\n",
       "</style>\n",
       "<table border=\"1\" class=\"dataframe\">\n",
       "  <thead>\n",
       "    <tr style=\"text-align: right;\">\n",
       "      <th></th>\n",
       "      <th>Hours_Studied</th>\n",
       "      <th>Test_Score</th>\n",
       "    </tr>\n",
       "  </thead>\n",
       "  <tbody>\n",
       "    <tr>\n",
       "      <th>0</th>\n",
       "      <td>1</td>\n",
       "      <td>50</td>\n",
       "    </tr>\n",
       "    <tr>\n",
       "      <th>1</th>\n",
       "      <td>2</td>\n",
       "      <td>60</td>\n",
       "    </tr>\n",
       "    <tr>\n",
       "      <th>2</th>\n",
       "      <td>3</td>\n",
       "      <td>65</td>\n",
       "    </tr>\n",
       "    <tr>\n",
       "      <th>3</th>\n",
       "      <td>4</td>\n",
       "      <td>70</td>\n",
       "    </tr>\n",
       "    <tr>\n",
       "      <th>4</th>\n",
       "      <td>5</td>\n",
       "      <td>90</td>\n",
       "    </tr>\n",
       "  </tbody>\n",
       "</table>\n",
       "</div>"
      ],
      "text/plain": [
       "   Hours_Studied  Test_Score\n",
       "0              1          50\n",
       "1              2          60\n",
       "2              3          65\n",
       "3              4          70\n",
       "4              5          90"
      ]
     },
     "execution_count": 2,
     "metadata": {},
     "output_type": "execute_result"
    }
   ],
   "source": [
    "import pandas as pd\n",
    "\n",
    "# Sample data: Hours studied vs Test scores of students\n",
    "data = {\n",
    "    'Hours_Studied': [1, 2, 3, 4, 5],\n",
    "    'Test_Score': [50, 60, 65, 70, 90]\n",
    "}\n",
    "df = pd.DataFrame(data)\n"
   ]
  },
  {
   "cell_type": "code",
   "execution_count": 3,
   "id": "fc1fbe48",
   "metadata": {},
   "outputs": [
    {
     "data": {
      "text/html": [
       "<div>\n",
       "<style scoped>\n",
       "    .dataframe tbody tr th:only-of-type {\n",
       "        vertical-align: middle;\n",
       "    }\n",
       "\n",
       "    .dataframe tbody tr th {\n",
       "        vertical-align: top;\n",
       "    }\n",
       "\n",
       "    .dataframe thead th {\n",
       "        text-align: right;\n",
       "    }\n",
       "</style>\n",
       "<table border=\"1\" class=\"dataframe\">\n",
       "  <thead>\n",
       "    <tr style=\"text-align: right;\">\n",
       "      <th></th>\n",
       "      <th>Hours_Studied</th>\n",
       "      <th>Test_Score</th>\n",
       "    </tr>\n",
       "  </thead>\n",
       "  <tbody>\n",
       "    <tr>\n",
       "      <th>Hours_Studied</th>\n",
       "      <td>1.000000</td>\n",
       "      <td>0.959403</td>\n",
       "    </tr>\n",
       "    <tr>\n",
       "      <th>Test_Score</th>\n",
       "      <td>0.959403</td>\n",
       "      <td>1.000000</td>\n",
       "    </tr>\n",
       "  </tbody>\n",
       "</table>\n",
       "</div>"
      ],
      "text/plain": [
       "               Hours_Studied  Test_Score\n",
       "Hours_Studied       1.000000    0.959403\n",
       "Test_Score          0.959403    1.000000"
      ]
     },
     "execution_count": 3,
     "metadata": {},
     "output_type": "execute_result"
    }
   ],
   "source": [
    "# Calculate correlation using pandas\n",
    "correlation_matrix = df.corr()\n",
    "\n",
    "correlation_matrix"
   ]
  },
  {
   "cell_type": "markdown",
   "id": "bff4ab14",
   "metadata": {},
   "source": [
    "## 3. scipy\n",
    "\n",
    "### `pearsonr()`, `spearmanr()`, `kendalltau()`\n",
    "\n",
    "**Simple Explanation:** These are functions from the `scipy` library that help us calculate different types of correlations.\n",
    "\n",
    "- **pearsonr()**: Calculates the Pearson correlation coefficient (what we discussed above).\n",
    "- **spearmanr()**: Measures the strength and direction of the relationship between two ranked variables.\n",
    "- **kendalltau()**: Another way to measure the relationship between rankings.\n",
    "\n",
    "**Real-world analogy:** Imagine a race. Pearson checks if faster shoes correlate with faster race times. Spearman and Kendall check the order in which racers finish (rankings) rather than their exact times.\n",
    "\n",
    "**Example with Sample Data:**"
   ]
  },
  {
   "cell_type": "code",
   "execution_count": 4,
   "id": "2c0579b7",
   "metadata": {},
   "outputs": [
    {
     "name": "stdout",
     "output_type": "stream",
     "text": [
      "Pearson Correlation: 0.9594032236002469\n",
      "Spearman Correlation: 0.9999999999999999\n",
      "Kendall Correlation: 0.9999999999999999\n"
     ]
    }
   ],
   "source": [
    "from scipy.stats import pearsonr, spearmanr, kendalltau\n",
    "\n",
    "# Using the same data from above\n",
    "hours = df['Hours_Studied']\n",
    "scores = df['Test_Score']\n",
    "\n",
    "# Calculate correlations using scipy\n",
    "pearson_corr, _ = pearsonr(hours, scores)\n",
    "spearman_corr, _ = spearmanr(hours, scores)\n",
    "kendall_corr, _ = kendalltau(hours, scores)\n",
    "\n",
    "print(f\"Pearson Correlation: {pearson_corr}\")\n",
    "print(f\"Spearman Correlation: {spearman_corr}\")\n",
    "print(f\"Kendall Correlation: {kendall_corr}\")\n"
   ]
  },
  {
   "cell_type": "markdown",
   "id": "77289dd4",
   "metadata": {},
   "source": [
    "---"
   ]
  },
  {
   "cell_type": "markdown",
   "id": "aae77ad2",
   "metadata": {},
   "source": [
    "### Dataset: Sales Data of a Retail Store\n",
    "\n",
    "Imagine a retail store that sells electronics. They've collected data over several months, capturing:\n",
    "\n",
    "- Date of sale\n",
    "- Product type (e.g., TV, Laptop, Mobile, etc.)\n",
    "- Sale price\n",
    "- Customer age\n",
    "- Customer gender\n",
    "- Whether the customer is a repeat customer\n",
    "- Rating given by the customer for the product\n",
    "\n",
    "Here's a snippet of the dataset:\n",
    "\n",
    "```python\n",
    "# Sample sales data\n",
    "data = {\n",
    "    'Date': ['2023-01-01', '2023-01-02', '2023-01-02', '2023-01-03'],\n",
    "    'Product': ['TV', 'Laptop', 'Mobile', 'TV'],\n",
    "    'Sale_Price': [500, 1000, 800, 550],\n",
    "    'Customer_Age': [25, 30, 22, 28],\n",
    "    'Gender': ['Male', 'Female', 'Male', 'Female'],\n",
    "    'Repeat_Customer': [True, False, True, False],\n",
    "    'Rating': [4.5, 4.0, 5.0, 3.5]\n",
    "}\n",
    "```\n",
    "\n",
    "### Simple Explanations with Real-world Examples:\n",
    "\n",
    "1. **Correlation between Sale Price and Customer Age**:\n",
    "   - **Real-world Scenario:** Do older customers tend to buy more expensive items?\n",
    "   - **Code:** `correlation = df['Sale_Price'].corr(df['Customer_Age'])`\n",
    "   - If the correlation is positive and close to 1, it means older customers tend to buy pricier items.\n",
    "\n",
    "2. **Average Rating by Product**:\n",
    "   - **Real-world Scenario:** Which product has the highest satisfaction among customers?\n",
    "   - **Code:** `avg_rating = df.groupby('Product')['Rating'].mean()`\n",
    "   - This will show the average rating for each product. Higher ratings indicate better customer satisfaction.\n",
    "\n",
    "3. **Sales by Gender**:\n",
    "   - **Real-world Scenario:** Do male customers buy more electronics than female customers in this store?\n",
    "   - **Code:** `sales_by_gender = df.groupby('Gender')['Sale_Price'].sum()`\n",
    "   - This will show total sales for male and female customers. Comparing the values will give an insight into who spends more.\n",
    "\n",
    "4. **Percentage of Repeat Customers**:\n",
    "   - **Real-world Scenario:** How loyal are the store's customers?\n",
    "   - **Code:** `repeat_percentage = df['Repeat_Customer'].mean() * 100`\n",
    "   - A higher percentage indicates that many customers come back to buy again, showing good customer loyalty.\n",
    "\n",
    "By breaking down the complex dataset into smaller questions and using simple real-world scenarios, we can make the data more understandable and relatable."
   ]
  },
  {
   "cell_type": "code",
   "execution_count": 5,
   "id": "9cf7046a",
   "metadata": {},
   "outputs": [
    {
     "name": "stdout",
     "output_type": "stream",
     "text": [
      "Correlation between Sale Price and Customer Age: 0.28\n",
      "\n",
      "Average Rating by Product:\n",
      "Product\n",
      "Laptop    4.0\n",
      "Mobile    5.0\n",
      "TV        4.0\n",
      "Name: Rating, dtype: float64\n",
      "\n",
      "Sales by Gender:\n",
      "Gender\n",
      "Female    1550\n",
      "Male      1300\n",
      "Name: Sale_Price, dtype: int64\n",
      "\n",
      "Percentage of Repeat Customers: 50.00%\n"
     ]
    }
   ],
   "source": [
    "import pandas as pd\n",
    "\n",
    "# Sample sales data\n",
    "data = {\n",
    "    'Date': ['2023-01-01', '2023-01-02', '2023-01-02', '2023-01-03'],\n",
    "    'Product': ['TV', 'Laptop', 'Mobile', 'TV'],\n",
    "    'Sale_Price': [500, 1000, 800, 550],\n",
    "    'Customer_Age': [25, 30, 22, 28],\n",
    "    'Gender': ['Male', 'Female', 'Male', 'Female'],\n",
    "    'Repeat_Customer': [True, False, True, False],\n",
    "    'Rating': [4.5, 4.0, 5.0, 3.5]\n",
    "}\n",
    "df = pd.DataFrame(data)\n",
    "\n",
    "# 1. Correlation between Sale Price and Customer Age\n",
    "correlation = df['Sale_Price'].corr(df['Customer_Age'])\n",
    "print(f\"Correlation between Sale Price and Customer Age: {correlation:.2f}\")\n",
    "\n",
    "# 2. Average Rating by Product\n",
    "avg_rating = df.groupby('Product')['Rating'].mean()\n",
    "print(\"\\nAverage Rating by Product:\")\n",
    "print(avg_rating)\n",
    "\n",
    "# 3. Sales by Gender\n",
    "sales_by_gender = df.groupby('Gender')['Sale_Price'].sum()\n",
    "print(\"\\nSales by Gender:\")\n",
    "print(sales_by_gender)\n",
    "\n",
    "# 4. Percentage of Repeat Customers\n",
    "repeat_percentage = df['Repeat_Customer'].mean() * 100\n",
    "print(f\"\\nPercentage of Repeat Customers: {repeat_percentage:.2f}%\")\n"
   ]
  },
  {
   "cell_type": "markdown",
   "id": "bc38cc54",
   "metadata": {},
   "source": [
    "Based on the sample data and the code provided, here's a conclusion for each scenario:\n",
    "\n",
    "1. **Correlation between Sale Price and Customer Age**:\n",
    "   - The correlation value will give an indication of the relationship between the age of the customer and the price of the product they buy. \n",
    "     - If the correlation is close to 1, it suggests that older customers tend to buy more expensive items.\n",
    "     - If it's close to -1, younger customers tend to buy pricier items.\n",
    "     - If it's close to 0, there's no strong relationship between age and the price of the product purchased.\n",
    "\n",
    "2. **Average Rating by Product**:\n",
    "   - This will show which products are most liked by the customers. A product with a higher average rating indicates better customer satisfaction compared to products with lower ratings.\n",
    "\n",
    "3. **Sales by Gender**:\n",
    "   - This will indicate which gender, male or female, tends to spend more on electronics in this store. If sales are higher for one gender, it suggests that gender has a preference or higher purchasing frequency for electronics in this specific store.\n",
    "\n",
    "4. **Percentage of Repeat Customers**:\n",
    "   - A high percentage indicates that many customers return to the store to make additional purchases, suggesting good customer loyalty and satisfaction with the store's products or services.\n",
    "\n",
    "**Overall Conclusion**:\n",
    "From the sample data, we can gather insights into customer preferences, behaviors, and satisfaction levels. These insights can be used by the store to make informed decisions, such as which products to promote, how to target marketing campaigns, or areas to improve for better customer satisfaction."
   ]
  }
 ],
 "metadata": {
  "kernelspec": {
   "display_name": "Python 3 (ipykernel)",
   "language": "python",
   "name": "python3"
  },
  "language_info": {
   "codemirror_mode": {
    "name": "ipython",
    "version": 3
   },
   "file_extension": ".py",
   "mimetype": "text/x-python",
   "name": "python",
   "nbconvert_exporter": "python",
   "pygments_lexer": "ipython3",
   "version": "3.10.9"
  }
 },
 "nbformat": 4,
 "nbformat_minor": 5
}
